{
 "cells": [
  {
   "cell_type": "markdown",
   "metadata": {
    "deletable": true,
    "editable": true
   },
   "source": [
    "This notebook was prepared by [Donne Martin](http://donnemartin.com). Source and license info is on [GitHub](https://github.com/donnemartin/interactive-coding-challenges)."
   ]
  },
  {
   "cell_type": "markdown",
   "metadata": {
    "deletable": true,
    "editable": true
   },
   "source": [
    "# Challenge Notebook"
   ]
  },
  {
   "cell_type": "markdown",
   "metadata": {
    "deletable": true,
    "editable": true
   },
   "source": [
    "## Problem: Implement a linked list with insert, append, find, delete, length, and print methods.\n",
    "\n",
    "* [Constraints](#Constraints)\n",
    "* [Test Cases](#Test-Cases)\n",
    "* [Algorithm](#Algorithm)\n",
    "* [Code](#Code)\n",
    "* [Unit Test](#Unit-Test)\n",
    "* [Solution Notebook](#Solution-Notebook)"
   ]
  },
  {
   "cell_type": "markdown",
   "metadata": {
    "deletable": true,
    "editable": true
   },
   "source": [
    "## Constraints\n",
    "\n",
    "* Can we assume this is a non-circular, singly linked list?\n",
    "    * Yes\n",
    "* Do we keep track of the tail or just the head?\n",
    "    * Just the head\n",
    "* Can we insert None values?\n",
    "    * No"
   ]
  },
  {
   "cell_type": "markdown",
   "metadata": {
    "deletable": true,
    "editable": true
   },
   "source": [
    "## Test Cases\n",
    "\n",
    "### Insert to Front\n",
    "\n",
    "* Insert a None\n",
    "* Insert in an empty list\n",
    "* Insert in a list with one element or more elements\n",
    "\n",
    "### Append\n",
    "\n",
    "* Append a None\n",
    "* Append in an empty list\n",
    "* Insert in a list with one element or more elements\n",
    "\n",
    "### Find\n",
    "\n",
    "* Find a None\n",
    "* Find in an empty list\n",
    "* Find in a list with one element or more matching elements\n",
    "* Find in a list with no matches\n",
    "\n",
    "### Delete\n",
    "\n",
    "* Delete a None\n",
    "* Delete in an empty list\n",
    "* Delete in a list with one element or more matching elements\n",
    "* Delete in a list with no matches\n",
    "\n",
    "### Length\n",
    "\n",
    "* Length of zero or more elements\n",
    "\n",
    "### Print\n",
    "\n",
    "* Print an empty list\n",
    "* Print a list with one or more elements"
   ]
  },
  {
   "cell_type": "markdown",
   "metadata": {
    "deletable": true,
    "editable": true
   },
   "source": [
    "## Algorithm\n",
    "\n",
    "Refer to the [Solution Notebook](http://nbviewer.ipython.org/github/donnemartin/interactive-coding-challenges/blob/master/linked_lists/linked_list/linked_list_solution.ipynb).  If you are stuck and need a hint, the solution notebook's algorithm discussion might be a good place to start."
   ]
  },
  {
   "cell_type": "markdown",
   "metadata": {
    "deletable": true,
    "editable": true
   },
   "source": [
    "## Code"
   ]
  },
  {
   "cell_type": "code",
   "execution_count": null,
   "metadata": {
    "collapsed": false,
    "deletable": true,
    "editable": true
   },
   "outputs": [],
   "source": [
    "class Node(object):\n",
    "\n",
    "    def __init__(self, data, next=None):\n",
    "        self.data = data\n",
    "        self.next_node = next\n",
    "\n",
    "    def __str__(self):\n",
    "        return self.data\n",
    "\n",
    "\n",
    "class LinkedList(object):\n",
    "\n",
    "    def __init__(self, head=None):\n",
    "        self.head = head\n",
    "\n",
    "    def __len__(self):\n",
    "        curr = self.head\n",
    "        counter = 0\n",
    "        while curr.next is not None:\n",
    "            counter += 1\n",
    "            curr = curr.next\n",
    "        return counter\n",
    "\n",
    "    def insert_to_front(self, data):\n",
    "        if data is None:\n",
    "            return None\n",
    "        node = Node(data, self.head)\n",
    "        self.head = node\n",
    "        return node\n",
    "\n",
    "    def append(self, data):\n",
    "        if data is None:\n",
    "            return None\n",
    "        node = Node(data)\n",
    "        if self.head is None:\n",
    "            self.head = node\n",
    "        else:\n",
    "            curr = self.head\n",
    "            while curr.next is not None:\n",
    "                curr = curr.next\n",
    "            curr.next = node\n",
    "        return node\n",
    "\n",
    "    def find(self, data):\n",
    "        if data is not None:\n",
    "            curr = self.head\n",
    "            while curr.next is not None:\n",
    "                if curr.data == data:\n",
    "                    return curr\n",
    "                curr = curr.next\n",
    "        return None\n",
    "\n",
    "    def delete(self, data):\n",
    "        if data is None or self.head is None:\n",
    "            return None\n",
    "        elif self.head.data == data:\n",
    "            self.head = self.head.next\n",
    "\n",
    "        else:\n",
    "            prev = self.head\n",
    "            curr = self.head.next\n",
    "            while curr is not None:\n",
    "                if curr.data == data:\n",
    "                    prev.next = curr.next\n",
    "                    return\n",
    "                prev = curr\n",
    "                curr = curr.next\n",
    "                \n",
    "        return None\n",
    "\n",
    "    def print_list(self):\n",
    "        if self.head is not None:\n",
    "            curr = self.head\n",
    "            while curr is not None:\n",
    "                print curr.data\n",
    "                curr = curr.next\n",
    "            \n",
    "    def get_all_data(self):\n",
    "        data_list = []\n",
    "        "
   ]
  },
  {
   "cell_type": "markdown",
   "metadata": {
    "deletable": true,
    "editable": true
   },
   "source": [
    "## Unit Test"
   ]
  },
  {
   "cell_type": "markdown",
   "metadata": {
    "deletable": true,
    "editable": true
   },
   "source": [
    "\n",
    "\n",
    "**The following unit test is expected to fail until you solve the challenge.**"
   ]
  },
  {
   "cell_type": "code",
   "execution_count": null,
   "metadata": {
    "collapsed": false,
    "deletable": true,
    "editable": true
   },
   "outputs": [],
   "source": [
    "# %load test_linked_list.py\n",
    "from nose.tools import assert_equal\n",
    "\n",
    "\n",
    "class TestLinkedList(object):\n",
    "\n",
    "    def test_insert_to_front(self):\n",
    "        print('Test: insert_to_front on an empty list')\n",
    "        linked_list = LinkedList(None)\n",
    "        linked_list.insert_to_front(10)\n",
    "        assert_equal(linked_list.get_all_data(), [10])\n",
    "\n",
    "        print('Test: insert_to_front on a None')\n",
    "        linked_list.insert_to_front(None)\n",
    "        assert_equal(linked_list.get_all_data(), [10])\n",
    "\n",
    "        print('Test: insert_to_front general case')\n",
    "        linked_list.insert_to_front('a')\n",
    "        linked_list.insert_to_front('bc')\n",
    "        assert_equal(linked_list.get_all_data(), ['bc', 'a', 10])\n",
    "\n",
    "        print('Success: test_insert_to_front\\n')\n",
    "\n",
    "    def test_append(self):\n",
    "        print('Test: append on an empty list')\n",
    "        linked_list = LinkedList(None)\n",
    "        linked_list.append(10)\n",
    "        assert_equal(linked_list.get_all_data(), [10])\n",
    "\n",
    "        print('Test: append a None')\n",
    "        linked_list.append(None)\n",
    "        assert_equal(linked_list.get_all_data(), [10])\n",
    "\n",
    "        print('Test: append general case')\n",
    "        linked_list.append('a')\n",
    "        linked_list.append('bc')\n",
    "        assert_equal(linked_list.get_all_data(), [10, 'a', 'bc'])\n",
    "\n",
    "        print('Success: test_append\\n')\n",
    "\n",
    "    def test_find(self):\n",
    "        print('Test: find on an empty list')\n",
    "        linked_list = LinkedList(None)\n",
    "        node = linked_list.find('a')\n",
    "        assert_equal(node, None)\n",
    "\n",
    "        print('Test: find a None')\n",
    "        head = Node(10)\n",
    "        linked_list = LinkedList(head)\n",
    "        node = linked_list.find(None)\n",
    "        assert_equal(node, None)\n",
    "\n",
    "        print('Test: find general case with matches')\n",
    "        head = Node(10)\n",
    "        linked_list = LinkedList(head)\n",
    "        linked_list.insert_to_front('a')\n",
    "        linked_list.insert_to_front('bc')\n",
    "        node = linked_list.find('a')\n",
    "        assert_equal(str(node), 'a')\n",
    "\n",
    "        print('Test: find general case with no matches')\n",
    "        node = linked_list.find('aaa')\n",
    "        assert_equal(node, None)\n",
    "\n",
    "        print('Success: test_find\\n')\n",
    "\n",
    "    def test_delete(self):\n",
    "        print('Test: delete on an empty list')\n",
    "        linked_list = LinkedList(None)\n",
    "        linked_list.delete('a')\n",
    "        assert_equal(linked_list.get_all_data(), [])\n",
    "\n",
    "        print('Test: delete a None')\n",
    "        head = Node(10)\n",
    "        linked_list = LinkedList(head)\n",
    "        linked_list.delete(None)\n",
    "        assert_equal(linked_list.get_all_data(), [10])\n",
    "\n",
    "        print('Test: delete general case with matches')\n",
    "        head = Node(10)\n",
    "        linked_list = LinkedList(head)\n",
    "        linked_list.insert_to_front('a')\n",
    "        linked_list.insert_to_front('bc')\n",
    "        linked_list.delete('a')\n",
    "        assert_equal(linked_list.get_all_data(), ['bc', 10])\n",
    "\n",
    "        print('Test: delete general case with no matches')\n",
    "        linked_list.delete('aa')\n",
    "        assert_equal(linked_list.get_all_data(), ['bc', 10])\n",
    "\n",
    "        print('Success: test_delete\\n')\n",
    "\n",
    "    def test_len(self):\n",
    "        print('Test: len on an empty list')\n",
    "        linked_list = LinkedList(None)\n",
    "        assert_equal(len(linked_list), 0)\n",
    "\n",
    "        print('Test: len general case')\n",
    "        head = Node(10)\n",
    "        linked_list = LinkedList(head)\n",
    "        linked_list.insert_to_front('a')\n",
    "        linked_list.insert_to_front('bc')\n",
    "        assert_equal(len(linked_list), 3)\n",
    "\n",
    "        print('Success: test_len\\n')\n",
    "\n",
    "\n",
    "def main():\n",
    "    test = TestLinkedList()\n",
    "    test.test_insert_to_front()\n",
    "    test.test_append()\n",
    "    test.test_find()\n",
    "    test.test_delete()\n",
    "    test.test_len()\n",
    "\n",
    "\n",
    "if __name__ == '__main__':\n",
    "    main()"
   ]
  },
  {
   "cell_type": "markdown",
   "metadata": {
    "deletable": true,
    "editable": true
   },
   "source": [
    "## Solution Notebook\n",
    "\n",
    "Review the [Solution Notebook](http://nbviewer.ipython.org/github/donnemartin/interactive-coding-challenges/blob/master/linked_lists/linked_list/linked_list_solution.ipynb) for a discussion on algorithms and code solutions."
   ]
  }
 ],
 "metadata": {
  "kernelspec": {
   "display_name": "Python 2",
   "language": "python",
   "name": "python2"
  },
  "language_info": {
   "codemirror_mode": {
    "name": "ipython",
    "version": 2
   },
   "file_extension": ".py",
   "mimetype": "text/x-python",
   "name": "python",
   "nbconvert_exporter": "python",
   "pygments_lexer": "ipython2",
   "version": "2.7.10"
  }
 },
 "nbformat": 4,
 "nbformat_minor": 0
}
